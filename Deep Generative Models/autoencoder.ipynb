{
 "cells": [
  {
   "cell_type": "markdown",
   "metadata": {},
   "source": [
    "# Autoencoder"
   ]
  },
  {
   "cell_type": "markdown",
   "metadata": {},
   "source": [
    "This deep neural networks made of two parts:\n",
    "- An encoder: a network that learns to represent/compress the high-dimensional input data into a lower dimensional latent space\n",
    "- A decoder: a network that learns to decompress a given representation/vector in the latent space to a high-dimensional representation\n",
    "\n",
    "Often used to remove noise from images.\n",
    "\n",
    "It is really easy to create an autoencoder using Keras Model Subclassing API as show in this [Tensorflow tutorial](https://www.tensorflow.org/tutorials/generative/autoencoder).\n",
    "\n",
    "Let's build an autoencoder \"from scratch\" to have a better understanding!"
   ]
  },
  {
   "cell_type": "markdown",
   "metadata": {},
   "source": [
    "## Hand Made Autoencoder"
   ]
  },
  {
   "cell_type": "code",
   "execution_count": 239,
   "metadata": {},
   "outputs": [],
   "source": [
    "import numpy as np\n",
    "import pandas as pd\n",
    "\n",
    "import tensorflow as tf\n",
    "from tensorflow.keras.models import Model\n",
    "from tensorflow.keras.layers import Input, Conv2D, LeakyReLU, Flatten, Dense, Reshape, Conv2DTranspose, Activation\n",
    "from tensorflow.keras.optimizers import Adam\n",
    "from tensorflow.keras.losses import MeanSquaredError\n",
    "from tensorflow.keras.metrics import Mean\n",
    "from tensorflow.keras.datasets import mnist\n",
    "\n",
    "import matplotlib.pyplot as plt"
   ]
  },
  {
   "cell_type": "markdown",
   "metadata": {},
   "source": [
    "### Encoder"
   ]
  },
  {
   "cell_type": "code",
   "execution_count": 240,
   "metadata": {},
   "outputs": [],
   "source": [
    "class Encoder():\n",
    "\n",
    "    def __init__(self, input_dim, encoder_n_layers, encoder_conv_filters, encoder_conv_kernel_sizes, encoder_conv_strides, latent_dim):\n",
    "        self.input_dim = input_dim\n",
    "        self.encoder_n_layers = encoder_n_layers\n",
    "        self.encoder_conv_filters = encoder_conv_filters\n",
    "        self.encoder_conv_kernel_sizes = encoder_conv_kernel_sizes\n",
    "        self.encoder_conv_strides = encoder_conv_strides\n",
    "        self.latent_dim = latent_dim\n",
    "\n",
    "        if len(self.encoder_conv_filters) == len(self.encoder_conv_kernel_sizes) == len(self.encoder_conv_strides) == self.encoder_n_layers:\n",
    "            pass\n",
    "        else:\n",
    "            print(\"ERROR\")\n",
    "            return\n",
    "\n",
    "        self.input = Input(shape=self.input_dim, name=\"input\")\n",
    "\n",
    "        x = self.input\n",
    "\n",
    "        for i in range(self.encoder_n_layers):\n",
    "            conv_layer = Conv2D(filters=self.encoder_conv_filters[i],\n",
    "                                kernel_size=self.encoder_conv_kernel_sizes[i],\n",
    "                                strides=self.encoder_conv_strides[i],\n",
    "                                padding=\"same\",\n",
    "                                name=\"encoder_conv_\" + str(i))\n",
    "            x = conv_layer(x)\n",
    "            x = LeakyReLU()(x)\n",
    "\n",
    "        self.shape_before_flattening = tf.keras.backend.int_shape(x)[1:] # See decoder\n",
    "\n",
    "        x = Flatten()(x)\n",
    "\n",
    "        self.output = Dense(self.latent_dim, name=\"output\")(x)\n",
    "\n",
    "        self.model = Model(self.input, self.output)\n"
   ]
  },
  {
   "cell_type": "code",
   "execution_count": 241,
   "metadata": {},
   "outputs": [],
   "source": [
    "encoder = Encoder(input_dim=(28,28,1),\n",
    "                          encoder_n_layers=4,\n",
    "                          encoder_conv_filters=[32,64,64,64],\n",
    "                          encoder_conv_kernel_sizes=[3,3,3,3],\n",
    "                          encoder_conv_strides=[1,2,2,1],\n",
    "                          latent_dim=2)"
   ]
  },
  {
   "cell_type": "markdown",
   "metadata": {},
   "source": [
    "### Decoder"
   ]
  },
  {
   "cell_type": "code",
   "execution_count": 242,
   "metadata": {},
   "outputs": [],
   "source": [
    "class Decoder():\n",
    "\n",
    "    def __init__(self, latent_dim, shape_before_flattening, decoder_n_layers, decoder_conv_t_filters, decoder_conv_t_kernel_sizes, decoder_conv_t_strides, output_dim):\n",
    "        self.output_dim = output_dim\n",
    "        self.shape_before_flattening = shape_before_flattening\n",
    "        self.decoder_n_layers = decoder_n_layers\n",
    "        self.decoder_conv_t_filters = decoder_conv_t_filters\n",
    "        self.decoder_conv_t_kernel_sizes = decoder_conv_t_kernel_sizes\n",
    "        self.decoder_conv_t_strides = decoder_conv_t_strides\n",
    "        self.latent_dim = latent_dim\n",
    "\n",
    "        if len(self.decoder_conv_t_filters) == len(self.decoder_conv_t_kernel_sizes) == len(self.decoder_conv_t_strides) == self.decoder_n_layers:\n",
    "            pass\n",
    "        else:\n",
    "            print(\"ERROR\")\n",
    "            return\n",
    "\n",
    "        self.input = Input(shape=(self.latent_dim,), name=\"input\")\n",
    "\n",
    "        x = Dense(np.prod(shape_before_flattening))(self.input) # Connect the input to a dense layer\n",
    "\n",
    "        x = Reshape(self.shape_before_flattening)(x) # Reshape latent space vector for convolutional transpose layers\n",
    "\n",
    "        for i in range(self.decoder_n_layers):\n",
    "            conv_t_layer = Conv2DTranspose(filters=self.decoder_conv_t_filters[i],\n",
    "                                           kernel_size=self.decoder_conv_t_kernel_sizes[i],\n",
    "                                           strides=self.decoder_conv_t_strides[i],\n",
    "                                           padding=\"same\",\n",
    "                                           name=\"decoder_conv_t_\" + str(i))\n",
    "            x = conv_t_layer(x)\n",
    "\n",
    "            if i < self.decoder_n_layers - 1:\n",
    "                x = LeakyReLU()(x)\n",
    "            else:\n",
    "                x = Activation(\"sigmoid\")(x)\n",
    "\n",
    "        self.output = x\n",
    "\n",
    "        self.model = Model(self.input, self.output)\n",
    "\n",
    "    def predict(self, x):\n",
    "        return self.model.predict(x)\n",
    "        "
   ]
  },
  {
   "cell_type": "markdown",
   "metadata": {},
   "source": [
    "### Autoencoder"
   ]
  },
  {
   "cell_type": "code",
   "execution_count": 243,
   "metadata": {},
   "outputs": [],
   "source": [
    "class Autoencoder():\n",
    "\n",
    "    def __init__(self, input_dim,\n",
    "                 encoder_n_layers, encoder_conv_filters, encoder_conv_kernel_sizes, encoder_conv_strides,\n",
    "                 latent_dim,\n",
    "                 decoder_n_layers, decoder_conv_t_filters, decoder_conv_t_kernel_sizes, decoder_conv_t_strides,\n",
    "                 output_dim,\n",
    "                 learning_rate):\n",
    "        self.input_dim = input_dim\n",
    "        self.encoder_n_layers = encoder_n_layers\n",
    "        self.encoder_conv_filters = encoder_conv_filters\n",
    "        self.encoder_conv_kernel_sizes = encoder_conv_kernel_sizes\n",
    "        self.encoder_conv_strides = encoder_conv_strides\n",
    "        self.latent_dim = latent_dim\n",
    "        self.decoder_n_layers = decoder_n_layers\n",
    "        self.decoder_conv_t_filters = decoder_conv_t_filters\n",
    "        self.decoder_conv_t_kernel_sizes = decoder_conv_t_kernel_sizes\n",
    "        self.decoder_conv_t_strides = decoder_conv_t_strides\n",
    "        self.output_dim = output_dim\n",
    "\n",
    "        self.learning_rate = learning_rate\n",
    "\n",
    "        # Create encoder\n",
    "        self.encoder = Encoder(self.input_dim,\n",
    "                               self.encoder_n_layers, self.encoder_conv_filters, self.encoder_conv_kernel_sizes, self.encoder_conv_strides,\n",
    "                               self.latent_dim)\n",
    "        \n",
    "        # Create decoder\n",
    "        self.decoder = Decoder(self.latent_dim, self.encoder.shape_before_flattening,\n",
    "                               self.decoder_n_layers, self.decoder_conv_t_filters, self.decoder_conv_t_kernel_sizes, self.decoder_conv_t_strides,\n",
    "                               self.output_dim)\n",
    "        \n",
    "        # Create model\n",
    "        self.model_input = self.encoder.input\n",
    "        self.model_output = self.decoder.model(self.encoder.output)\n",
    "\n",
    "        self.model = Model(self.model_input, self.model_output)\n",
    "\n",
    "        # Compile model\n",
    "        self.optimizer = Adam(learning_rate=self.learning_rate)\n",
    "        \n",
    "        self.model.compile(optimizer=self.optimizer, loss=MeanSquaredError())\n",
    "\n",
    "    def summary(self):\n",
    "        self.model.summary()\n",
    "\n",
    "    def fit(self, x, y, batch_size, shuffle, epochs, callbacks):\n",
    "        self.model.fit(x, y, batch_size, shuffle, epochs, callbacks)\n",
    "\n",
    "    def predict(self, x):\n",
    "        return self.model.predict(x)\n"
   ]
  },
  {
   "cell_type": "code",
   "execution_count": 244,
   "metadata": {},
   "outputs": [],
   "source": [
    "autoencoder = Autoencoder(input_dim=(28,28,1),\n",
    "                          encoder_n_layers=4,\n",
    "                          encoder_conv_filters=[32,64,64,64],\n",
    "                          encoder_conv_kernel_sizes=[3,3,3,3],\n",
    "                          encoder_conv_strides=[1,2,2,1],\n",
    "                          latent_dim=2,\n",
    "                          decoder_n_layers=4,\n",
    "                          decoder_conv_t_filters=[64,64,32,1],\n",
    "                          decoder_conv_t_kernel_sizes=[3,3,3,3],\n",
    "                          decoder_conv_t_strides=[1,2,2,1],\n",
    "                          output_dim=(28,28,1),\n",
    "                          learning_rate=10**-3)"
   ]
  },
  {
   "cell_type": "code",
   "execution_count": 245,
   "metadata": {},
   "outputs": [
    {
     "name": "stdout",
     "output_type": "stream",
     "text": [
      "Model: \"model_103\"\n",
      "_________________________________________________________________\n",
      " Layer (type)                Output Shape              Param #   \n",
      "=================================================================\n",
      " input (InputLayer)          [(None, 28, 28, 1)]       0         \n",
      "                                                                 \n",
      " encoder_conv_0 (Conv2D)     (None, 28, 28, 32)        320       \n",
      "                                                                 \n",
      " leaky_re_lu_279 (LeakyReLU  (None, 28, 28, 32)        0         \n",
      " )                                                               \n",
      "                                                                 \n",
      " encoder_conv_1 (Conv2D)     (None, 14, 14, 64)        18496     \n",
      "                                                                 \n",
      " leaky_re_lu_280 (LeakyReLU  (None, 14, 14, 64)        0         \n",
      " )                                                               \n",
      "                                                                 \n",
      " encoder_conv_2 (Conv2D)     (None, 7, 7, 64)          36928     \n",
      "                                                                 \n",
      " leaky_re_lu_281 (LeakyReLU  (None, 7, 7, 64)          0         \n",
      " )                                                               \n",
      "                                                                 \n",
      " encoder_conv_3 (Conv2D)     (None, 7, 7, 64)          36928     \n",
      "                                                                 \n",
      " leaky_re_lu_282 (LeakyReLU  (None, 7, 7, 64)          0         \n",
      " )                                                               \n",
      "                                                                 \n",
      " flatten_51 (Flatten)        (None, 3136)              0         \n",
      "                                                                 \n",
      " output (Dense)              (None, 2)                 6274      \n",
      "                                                                 \n",
      " model_102 (Functional)      (None, 28, 28, 1)         102017    \n",
      "                                                                 \n",
      "=================================================================\n",
      "Total params: 200963 (785.01 KB)\n",
      "Trainable params: 200963 (785.01 KB)\n",
      "Non-trainable params: 0 (0.00 Byte)\n",
      "_________________________________________________________________\n"
     ]
    }
   ],
   "source": [
    "autoencoder.summary()"
   ]
  },
  {
   "cell_type": "markdown",
   "metadata": {},
   "source": [
    "### Training"
   ]
  },
  {
   "cell_type": "code",
   "execution_count": 246,
   "metadata": {},
   "outputs": [],
   "source": [
    "# Load MNIST dataset\n",
    "mnist_dataset = mnist.load_data()\n",
    "(trainset, testset) = (mnist_dataset[0], mnist_dataset[1])\n",
    "(X_train, y_train) = trainset\n",
    "(X_test, y_test) = testset\n",
    "\n",
    "# Preprocess data (convert to float and scale to between 0 and 1)\n",
    "X_train = X_train.astype('float32')\n",
    "X_train /= 255\n",
    "X_test = X_test.astype('float32')\n",
    "X_test /= 255\n",
    "\n",
    "# Preprocess data (convert to uint8)\n",
    "# y_train = y_train.astype('uint8')\n",
    "# y_test = y_test.astype('uint8')"
   ]
  },
  {
   "cell_type": "code",
   "execution_count": 247,
   "metadata": {},
   "outputs": [],
   "source": [
    "# Define callbacks\n",
    "callbacks = []"
   ]
  },
  {
   "cell_type": "code",
   "execution_count": 248,
   "metadata": {},
   "outputs": [
    {
     "name": "stderr",
     "output_type": "stream",
     "text": [
      "2023-11-15 22:58:46.454336: E tensorflow/core/grappler/optimizers/meta_optimizer.cc:961] remapper failed: INVALID_ARGUMENT: Mutation::Apply error: fanout 'gradient_tape/model_103/leaky_re_lu_282/LeakyRelu/LeakyReluGrad' exist for missing node 'model_103/encoder_conv_3/BiasAdd'.\n"
     ]
    }
   ],
   "source": [
    "autoencoder.fit(x=X_train,\n",
    "                y=y_train,\n",
    "                batch_size=20,\n",
    "                shuffle=True,\n",
    "                epochs=10,\n",
    "                callbacks=callbacks)"
   ]
  },
  {
   "cell_type": "markdown",
   "metadata": {},
   "source": [
    "### Predictions"
   ]
  },
  {
   "cell_type": "markdown",
   "metadata": {},
   "source": [
    "#### Prediction from data set"
   ]
  },
  {
   "cell_type": "code",
   "execution_count": 249,
   "metadata": {},
   "outputs": [
    {
     "name": "stdout",
     "output_type": "stream",
     "text": [
      "313/313 [==============================] - 5s 14ms/step\n"
     ]
    }
   ],
   "source": [
    "predictions = autoencoder.predict(X_test)"
   ]
  },
  {
   "cell_type": "code",
   "execution_count": 250,
   "metadata": {},
   "outputs": [
    {
     "data": {
      "text/plain": [
       "<matplotlib.image.AxesImage at 0x7f52e9efd7f0>"
      ]
     },
     "execution_count": 250,
     "metadata": {},
     "output_type": "execute_result"
    },
    {
     "data": {
      "image/png": "[encoded data removed]",
      "text/plain": [
       "<Figure size 432x288 with 1 Axes>"
      ]
     },
     "metadata": {
      "needs_background": "light"
     },
     "output_type": "display_data"
    }
   ],
   "source": [
    "plt.imshow(X_test[0])"
   ]
  },
  {
   "cell_type": "code",
   "execution_count": 251,
   "metadata": {},
   "outputs": [
    {
     "data": {
      "text/plain": [
       "<matplotlib.image.AxesImage at 0x7f52e9ec5dc0>"
      ]
     },
     "execution_count": 251,
     "metadata": {},
     "output_type": "execute_result"
    },
    {
     "data": {
      "image/png": "[encoded data removed]",
      "text/plain": [
       "<Figure size 432x288 with 1 Axes>"
      ]
     },
     "metadata": {
      "needs_background": "light"
     },
     "output_type": "display_data"
    }
   ],
   "source": [
    "plt.imshow(predictions[0])"
   ]
  },
  {
   "cell_type": "markdown",
   "metadata": {},
   "source": [
    "#### Random Prediction"
   ]
  },
  {
   "cell_type": "code",
   "execution_count": 252,
   "metadata": {},
   "outputs": [
    {
     "data": {
      "text/plain": [
       "array([[0.67792575, 0.34272522]])"
      ]
     },
     "execution_count": 252,
     "metadata": {},
     "output_type": "execute_result"
    }
   ],
   "source": [
    "latent_vector_1 = np.random.random(size=(1,2))\n",
    "latent_vector_1"
   ]
  },
  {
   "cell_type": "code",
   "execution_count": 253,
   "metadata": {},
   "outputs": [
    {
     "name": "stdout",
     "output_type": "stream",
     "text": [
      "1/1 [==============================] - 0s 219ms/step\n"
     ]
    }
   ],
   "source": [
    "prediction_1 = autoencoder.decoder.predict(latent_vector_1)"
   ]
  },
  {
   "cell_type": "code",
   "execution_count": 254,
   "metadata": {},
   "outputs": [
    {
     "data": {
      "text/plain": [
       "<matplotlib.image.AxesImage at 0x7f52e9e5bac0>"
      ]
     },
     "execution_count": 254,
     "metadata": {},
     "output_type": "execute_result"
    },
    {
     "data": {
      "image/png": "[encoded data removed]",
      "text/plain": [
       "<Figure size 432x288 with 1 Axes>"
      ]
     },
     "metadata": {
      "needs_background": "light"
     },
     "output_type": "display_data"
    }
   ],
   "source": [
    "# prediction_1 = prediction_1.numpy()\n",
    "prediction_1 = prediction_1[0]\n",
    "plt.imshow(prediction_1)"
   ]
  }
 ],
 "metadata": {
  "kernelspec": {
   "display_name": "base",
   "language": "python",
   "name": "python3"
  },
  "language_info": {
   "codemirror_mode": {
    "name": "ipython",
    "version": 3
   },
   "file_extension": ".py",
   "mimetype": "text/x-python",
   "name": "python",
   "nbconvert_exporter": "python",
   "pygments_lexer": "ipython3",
   "version": "3.9.12"
  }
 },
 "nbformat": 4,
 "nbformat_minor": 2
}
